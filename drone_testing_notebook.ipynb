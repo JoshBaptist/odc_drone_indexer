{
 "cells": [
  {
   "cell_type": "code",
   "execution_count": 1,
   "metadata": {},
   "outputs": [],
   "source": [
    "import sys\n",
    "sys.path.append('..')\n",
    "import matplotlib.pyplot as plt\n",
    "\n",
    "import datacube\n",
    "dc = datacube.Datacube()"
   ]
  },
  {
   "cell_type": "code",
   "execution_count": 13,
   "metadata": {
    "scrolled": true
   },
   "outputs": [
    {
     "data": {
      "text/html": [
       "<div>\n",
       "<style scoped>\n",
       "    .dataframe tbody tr th:only-of-type {\n",
       "        vertical-align: middle;\n",
       "    }\n",
       "\n",
       "    .dataframe tbody tr th {\n",
       "        vertical-align: top;\n",
       "    }\n",
       "\n",
       "    .dataframe thead th {\n",
       "        text-align: right;\n",
       "    }\n",
       "</style>\n",
       "<table border=\"1\" class=\"dataframe\">\n",
       "  <thead>\n",
       "    <tr style=\"text-align: right;\">\n",
       "      <th></th>\n",
       "      <th>name</th>\n",
       "      <th>description</th>\n",
       "      <th>instrument</th>\n",
       "      <th>product_type</th>\n",
       "      <th>creation_time</th>\n",
       "      <th>platform</th>\n",
       "      <th>lon</th>\n",
       "      <th>lat</th>\n",
       "      <th>label</th>\n",
       "      <th>time</th>\n",
       "      <th>format</th>\n",
       "      <th>crs</th>\n",
       "      <th>resolution</th>\n",
       "      <th>tile_size</th>\n",
       "      <th>spatial_dimensions</th>\n",
       "    </tr>\n",
       "    <tr>\n",
       "      <th>id</th>\n",
       "      <th></th>\n",
       "      <th></th>\n",
       "      <th></th>\n",
       "      <th></th>\n",
       "      <th></th>\n",
       "      <th></th>\n",
       "      <th></th>\n",
       "      <th></th>\n",
       "      <th></th>\n",
       "      <th></th>\n",
       "      <th></th>\n",
       "      <th></th>\n",
       "      <th></th>\n",
       "      <th></th>\n",
       "      <th></th>\n",
       "    </tr>\n",
       "  </thead>\n",
       "  <tbody>\n",
       "    <tr>\n",
       "      <th>1</th>\n",
       "      <td>civil_tracker_drone_FrancisCookeLandfill</td>\n",
       "      <td>Civil Tracker (civiltracker.xyz) drone data (D...</td>\n",
       "      <td>None</td>\n",
       "      <td>CivilTrackerDrone</td>\n",
       "      <td>None</td>\n",
       "      <td>CivilTracker</td>\n",
       "      <td>None</td>\n",
       "      <td>None</td>\n",
       "      <td>None</td>\n",
       "      <td>None</td>\n",
       "      <td>GeoTiff</td>\n",
       "      <td>EPSG:32611</td>\n",
       "      <td>(0.0327283, 0.0327283)</td>\n",
       "      <td>None</td>\n",
       "      <td>(y, x)</td>\n",
       "    </tr>\n",
       "    <tr>\n",
       "      <th>2</th>\n",
       "      <td>civil_tracker_drone_Mill</td>\n",
       "      <td>Civil Tracker (civiltracker.xyz) drone data (D...</td>\n",
       "      <td>None</td>\n",
       "      <td>CivilTrackerDrone</td>\n",
       "      <td>None</td>\n",
       "      <td>CivilTracker</td>\n",
       "      <td>None</td>\n",
       "      <td>None</td>\n",
       "      <td>None</td>\n",
       "      <td>None</td>\n",
       "      <td>GeoTiff</td>\n",
       "      <td>EPSG:32610</td>\n",
       "      <td>(0.0177721, 0.0177721)</td>\n",
       "      <td>None</td>\n",
       "      <td>(y, x)</td>\n",
       "    </tr>\n",
       "  </tbody>\n",
       "</table>\n",
       "</div>"
      ],
      "text/plain": [
       "                                        name  \\\n",
       "id                                             \n",
       "1   civil_tracker_drone_FrancisCookeLandfill   \n",
       "2                   civil_tracker_drone_Mill   \n",
       "\n",
       "                                          description instrument  \\\n",
       "id                                                                 \n",
       "1   Civil Tracker (civiltracker.xyz) drone data (D...       None   \n",
       "2   Civil Tracker (civiltracker.xyz) drone data (D...       None   \n",
       "\n",
       "         product_type creation_time      platform   lon   lat label  time  \\\n",
       "id                                                                          \n",
       "1   CivilTrackerDrone          None  CivilTracker  None  None  None  None   \n",
       "2   CivilTrackerDrone          None  CivilTracker  None  None  None  None   \n",
       "\n",
       "     format         crs              resolution tile_size spatial_dimensions  \n",
       "id                                                                            \n",
       "1   GeoTiff  EPSG:32611  (0.0327283, 0.0327283)      None             (y, x)  \n",
       "2   GeoTiff  EPSG:32610  (0.0177721, 0.0177721)      None             (y, x)  "
      ]
     },
     "execution_count": 13,
     "metadata": {},
     "output_type": "execute_result"
    }
   ],
   "source": [
    "dc.list_products()"
   ]
  },
  {
   "cell_type": "markdown",
   "metadata": {},
   "source": [
    "**Select 1 of these products by uncommenting it and commenting the others.**"
   ]
  },
  {
   "cell_type": "code",
   "execution_count": 14,
   "metadata": {},
   "outputs": [],
   "source": [
    "# product = 'civil_tracker_drone_FrancisCookeLandfill'\n",
    "# product = 'civil_tracker_drone_LaVita'\n",
    "product = 'civil_tracker_drone_Mill'"
   ]
  },
  {
   "cell_type": "code",
   "execution_count": 15,
   "metadata": {},
   "outputs": [],
   "source": [
    "data = dc.load(product=product, dask_chunks={'time':1, 'x':4000, 'y':4000}).isel(time=0)"
   ]
  },
  {
   "cell_type": "code",
   "execution_count": 16,
   "metadata": {},
   "outputs": [],
   "source": [
    "data['elevation'] = data['elevation'].where(data['elevation'] != -9999)"
   ]
  },
  {
   "cell_type": "markdown",
   "metadata": {},
   "source": [
    "**Show the elevation data.**"
   ]
  },
  {
   "cell_type": "code",
   "execution_count": 17,
   "metadata": {},
   "outputs": [],
   "source": [
    "from PIL import Image\n",
    "import numpy as np\n",
    "\n",
    "strd = 4 # The pixel stride.\n",
    "rgb_data = data[['elevation']*3].to_array().transpose('y', 'x', 'variable')\\\n",
    "    .isel(x=slice(0, len(data.x), strd), \n",
    "          y=slice(0, len(data.y), strd)).values\n",
    "img = Image.fromarray(rgb_data, 'RGB')\n",
    "img.save('civiltracker_drone_elevation.png')"
   ]
  },
  {
   "cell_type": "markdown",
   "metadata": {},
   "source": [
    "**Show the RGB data.**"
   ]
  },
  {
   "cell_type": "code",
   "execution_count": 18,
   "metadata": {},
   "outputs": [],
   "source": [
    "rgb_data = data[['red', 'green', 'blue']].to_array().transpose('y', 'x', 'variable')\\\n",
    "    .isel(x=slice(0, len(data.x), strd), \n",
    "          y=slice(0, len(data.y), strd)).values\n",
    "img = Image.fromarray(rgb_data, 'RGB')\n",
    "img.save('civiltracker_drone_rgb.png')"
   ]
  }
 ],
 "metadata": {
  "kernelspec": {
   "display_name": "Python 3",
   "language": "python",
   "name": "python3"
  },
  "language_info": {
   "codemirror_mode": {
    "name": "ipython",
    "version": 3
   },
   "file_extension": ".py",
   "mimetype": "text/x-python",
   "name": "python",
   "nbconvert_exporter": "python",
   "pygments_lexer": "ipython3",
   "version": "3.6.9"
  }
 },
 "nbformat": 4,
 "nbformat_minor": 4
}
